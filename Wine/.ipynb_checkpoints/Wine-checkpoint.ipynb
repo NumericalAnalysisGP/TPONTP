{
 "cells": [
  {
   "cell_type": "code",
   "execution_count": null,
   "outputs": [],
   "source": [
    ""
   ]
  }
 ],
 "metadata": {},
 "nbformat": 4,
 "nbformat_minor": 0
}